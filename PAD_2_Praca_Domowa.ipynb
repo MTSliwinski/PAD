{
 "cells": [
  {
   "cell_type": "markdown",
   "source": [
    "Zadanie 1"
   ],
   "metadata": {
    "collapsed": false,
    "pycharm": {
     "name": "#%% md\n"
    }
   }
  },
  {
   "cell_type": "code",
   "execution_count": 5,
   "outputs": [
    {
     "data": {
      "text/plain": "Country\nA    328\nB    201\nC    186\nD     78\nName: count, dtype: int64"
     },
     "execution_count": 5,
     "metadata": {},
     "output_type": "execute_result"
    }
   ],
   "source": [
    "import pandas as pd\n",
    "import numpy as np\n",
    "\n",
    "df = pd.read_csv(\"PAD_02_PD.csv\",delimiter = \";\")\n",
    "df['count'] = 1\n",
    "df2 = df.groupby(['Country']).count()['count']\n",
    "df2"
   ],
   "metadata": {
    "collapsed": false,
    "pycharm": {
     "name": "#%%\n"
    }
   }
  },
  {
   "cell_type": "markdown",
   "source": [
    "Zadanie 2"
   ],
   "metadata": {
    "collapsed": false,
    "pycharm": {
     "name": "#%% md\n"
    }
   }
  },
  {
   "cell_type": "code",
   "execution_count": 6,
   "outputs": [
    {
     "data": {
      "text/plain": "   ID Country  owns_car  owns_TV  owns_house  owns_Phone gender  Age  count  \\\n0   1       A       0.0      0.0         0.0           1      M   61      1   \n1   2       B       0.0      0.0         0.0           1      M   44      1   \n2   3       A       0.0      0.0         0.0           1      M   56      1   \n3   4       A       0.0      0.0         0.0           1      M   53      1   \n4   5       C       1.0      1.0         0.0           1      K   60      1   \n5   6       A       0.0      0.0         0.0           1      M   48      1   \n6   7       D       1.0      1.0         1.0           1      K   58      1   \n7   8       C       0.0      1.0         0.0           1      K   59      1   \n8   9       A       0.0      0.0         0.0           1      M   61      1   \n9  10       A       0.0      0.0         0.0           1      M   48      1   \n\n   owns_goods  \n0         1.0  \n1         1.0  \n2         1.0  \n3         1.0  \n4         3.0  \n5         1.0  \n6         4.0  \n7         2.0  \n8         1.0  \n9         1.0  ",
      "text/html": "<div>\n<style scoped>\n    .dataframe tbody tr th:only-of-type {\n        vertical-align: middle;\n    }\n\n    .dataframe tbody tr th {\n        vertical-align: top;\n    }\n\n    .dataframe thead th {\n        text-align: right;\n    }\n</style>\n<table border=\"1\" class=\"dataframe\">\n  <thead>\n    <tr style=\"text-align: right;\">\n      <th></th>\n      <th>ID</th>\n      <th>Country</th>\n      <th>owns_car</th>\n      <th>owns_TV</th>\n      <th>owns_house</th>\n      <th>owns_Phone</th>\n      <th>gender</th>\n      <th>Age</th>\n      <th>count</th>\n      <th>owns_goods</th>\n    </tr>\n  </thead>\n  <tbody>\n    <tr>\n      <th>0</th>\n      <td>1</td>\n      <td>A</td>\n      <td>0.0</td>\n      <td>0.0</td>\n      <td>0.0</td>\n      <td>1</td>\n      <td>M</td>\n      <td>61</td>\n      <td>1</td>\n      <td>1.0</td>\n    </tr>\n    <tr>\n      <th>1</th>\n      <td>2</td>\n      <td>B</td>\n      <td>0.0</td>\n      <td>0.0</td>\n      <td>0.0</td>\n      <td>1</td>\n      <td>M</td>\n      <td>44</td>\n      <td>1</td>\n      <td>1.0</td>\n    </tr>\n    <tr>\n      <th>2</th>\n      <td>3</td>\n      <td>A</td>\n      <td>0.0</td>\n      <td>0.0</td>\n      <td>0.0</td>\n      <td>1</td>\n      <td>M</td>\n      <td>56</td>\n      <td>1</td>\n      <td>1.0</td>\n    </tr>\n    <tr>\n      <th>3</th>\n      <td>4</td>\n      <td>A</td>\n      <td>0.0</td>\n      <td>0.0</td>\n      <td>0.0</td>\n      <td>1</td>\n      <td>M</td>\n      <td>53</td>\n      <td>1</td>\n      <td>1.0</td>\n    </tr>\n    <tr>\n      <th>4</th>\n      <td>5</td>\n      <td>C</td>\n      <td>1.0</td>\n      <td>1.0</td>\n      <td>0.0</td>\n      <td>1</td>\n      <td>K</td>\n      <td>60</td>\n      <td>1</td>\n      <td>3.0</td>\n    </tr>\n    <tr>\n      <th>5</th>\n      <td>6</td>\n      <td>A</td>\n      <td>0.0</td>\n      <td>0.0</td>\n      <td>0.0</td>\n      <td>1</td>\n      <td>M</td>\n      <td>48</td>\n      <td>1</td>\n      <td>1.0</td>\n    </tr>\n    <tr>\n      <th>6</th>\n      <td>7</td>\n      <td>D</td>\n      <td>1.0</td>\n      <td>1.0</td>\n      <td>1.0</td>\n      <td>1</td>\n      <td>K</td>\n      <td>58</td>\n      <td>1</td>\n      <td>4.0</td>\n    </tr>\n    <tr>\n      <th>7</th>\n      <td>8</td>\n      <td>C</td>\n      <td>0.0</td>\n      <td>1.0</td>\n      <td>0.0</td>\n      <td>1</td>\n      <td>K</td>\n      <td>59</td>\n      <td>1</td>\n      <td>2.0</td>\n    </tr>\n    <tr>\n      <th>8</th>\n      <td>9</td>\n      <td>A</td>\n      <td>0.0</td>\n      <td>0.0</td>\n      <td>0.0</td>\n      <td>1</td>\n      <td>M</td>\n      <td>61</td>\n      <td>1</td>\n      <td>1.0</td>\n    </tr>\n    <tr>\n      <th>9</th>\n      <td>10</td>\n      <td>A</td>\n      <td>0.0</td>\n      <td>0.0</td>\n      <td>0.0</td>\n      <td>1</td>\n      <td>M</td>\n      <td>48</td>\n      <td>1</td>\n      <td>1.0</td>\n    </tr>\n  </tbody>\n</table>\n</div>"
     },
     "execution_count": 6,
     "metadata": {},
     "output_type": "execute_result"
    }
   ],
   "source": [
    "df['owns_goods'] = df['owns_car'] + df['owns_TV'] + df['owns_house'] + df['owns_Phone']\n",
    "df.head(10)"
   ],
   "metadata": {
    "collapsed": false,
    "pycharm": {
     "name": "#%%\n"
    }
   }
  },
  {
   "cell_type": "markdown",
   "source": [
    "Zadanie 3"
   ],
   "metadata": {
    "collapsed": false,
    "pycharm": {
     "name": "#%% md\n"
    }
   }
  },
  {
   "cell_type": "code",
   "execution_count": 7,
   "outputs": [
    {
     "data": {
      "text/plain": "gender\nK    2.797403\nM    0.887500\nName: owns_goods, dtype: float64"
     },
     "execution_count": 7,
     "metadata": {},
     "output_type": "execute_result"
    }
   ],
   "source": [
    "df.groupby(['gender']).mean()['owns_goods']"
   ],
   "metadata": {
    "collapsed": false,
    "pycharm": {
     "name": "#%%\n"
    }
   }
  },
  {
   "cell_type": "markdown",
   "source": [
    "Zadanie 4"
   ],
   "metadata": {
    "collapsed": false,
    "pycharm": {
     "name": "#%% md\n"
    }
   }
  },
  {
   "cell_type": "code",
   "execution_count": 10,
   "outputs": [
    {
     "data": {
      "text/plain": "  Country  min_age  mean_owns_goods  percentage_women\n0       A       18         0.861538          0.000000\n1       B       18         1.461929         62.189055\n2       C       18         3.032787         98.924731\n3       D       18         4.000000        100.000000",
      "text/html": "<div>\n<style scoped>\n    .dataframe tbody tr th:only-of-type {\n        vertical-align: middle;\n    }\n\n    .dataframe tbody tr th {\n        vertical-align: top;\n    }\n\n    .dataframe thead th {\n        text-align: right;\n    }\n</style>\n<table border=\"1\" class=\"dataframe\">\n  <thead>\n    <tr style=\"text-align: right;\">\n      <th></th>\n      <th>Country</th>\n      <th>min_age</th>\n      <th>mean_owns_goods</th>\n      <th>percentage_women</th>\n    </tr>\n  </thead>\n  <tbody>\n    <tr>\n      <th>0</th>\n      <td>A</td>\n      <td>18</td>\n      <td>0.861538</td>\n      <td>0.000000</td>\n    </tr>\n    <tr>\n      <th>1</th>\n      <td>B</td>\n      <td>18</td>\n      <td>1.461929</td>\n      <td>62.189055</td>\n    </tr>\n    <tr>\n      <th>2</th>\n      <td>C</td>\n      <td>18</td>\n      <td>3.032787</td>\n      <td>98.924731</td>\n    </tr>\n    <tr>\n      <th>3</th>\n      <td>D</td>\n      <td>18</td>\n      <td>4.000000</td>\n      <td>100.000000</td>\n    </tr>\n  </tbody>\n</table>\n</div>"
     },
     "execution_count": 10,
     "metadata": {},
     "output_type": "execute_result"
    }
   ],
   "source": [
    "df['IsFemale'] = np.where(df['gender'] == 'K', 1, 0)\n",
    "number_female = df.groupby(['Country']).sum()['IsFemale'].tolist()\n",
    "number_people = df.groupby(['Country']).sum()['count'].tolist()\n",
    "mean_owns_goods = df.groupby(['Country']).mean()['owns_goods'].tolist()\n",
    "min_age = df.groupby(['Country']).min()['Age'].tolist()\n",
    "country = df['Country'].unique().tolist()\n",
    "percentage_women = [number_female/number_people*100 for number_female,number_people in zip(number_female,number_people)]\n",
    "country.pop() #usuniecie pustego indeksu listy z powodu braku w danych\n",
    "df2 = { 'Country' : country, 'min_age' : min_age, \"mean_owns_goods\" : mean_owns_goods, \"percentage_women\" : percentage_women}\n",
    "result = pd.DataFrame(df2)\n",
    "result"
   ],
   "metadata": {
    "collapsed": false,
    "pycharm": {
     "name": "#%%\n"
    }
   }
  }
 ],
 "metadata": {
  "kernelspec": {
   "display_name": "Python 3",
   "language": "python",
   "name": "python3"
  },
  "language_info": {
   "codemirror_mode": {
    "name": "ipython",
    "version": 2
   },
   "file_extension": ".py",
   "mimetype": "text/x-python",
   "name": "python",
   "nbconvert_exporter": "python",
   "pygments_lexer": "ipython2",
   "version": "2.7.6"
  }
 },
 "nbformat": 4,
 "nbformat_minor": 0
}