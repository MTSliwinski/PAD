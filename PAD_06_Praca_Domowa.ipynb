{
 "cells": [
  {
   "cell_type": "code",
   "execution_count": 74,
   "metadata": {
    "pycharm": {
     "name": "#%%\n"
    }
   },
   "outputs": [],
   "source": [
    "#Libs\n",
    "import numpy as np\n",
    "import pandas as pd\n",
    "from sklearn.linear_model import LogisticRegression\n",
    "from sklearn.model_selection import train_test_split\n",
    "from sklearn.metrics import *\n",
    "from sklearn.feature_extraction.text import TfidfVectorizer\n",
    "from sklearn.feature_extraction.text import CountVectorizer\n",
    "from sklearn.metrics import r2_score\n",
    "from keras.models import Sequential\n",
    "from keras.layers import Dense\n",
    "from sklearn.svm import SVC"
   ]
  },
  {
   "cell_type": "code",
   "execution_count": 46,
   "metadata": {
    "pycharm": {
     "name": "#%%\n"
    }
   },
   "outputs": [],
   "source": [
    "#functions\n",
    "def clean_text(x):\n",
    "    x = x.replace('.','')\n",
    "    x = x.replace(',','')\n",
    "    x = x.replace(':','')\n",
    "    x = x.replace(';','')\n",
    "    x = x.replace('!','')\n",
    "    x = x.replace('?','')\n",
    "    x = x.replace('/','')\n",
    "    x = x.replace('1','')\n",
    "    x = x.replace('2','')\n",
    "    x = x.replace('3','')\n",
    "    x = x.replace('4','')\n",
    "    x = x.replace('5','')\n",
    "    x = x.replace('6','')\n",
    "    x = x.replace('7','')\n",
    "    x = x.replace('8','')\n",
    "    x = x.replace('9','')\n",
    "    x = x.replace('0','')\n",
    "    x = ' '.join([word for word in x.split() if word.isalpha()])\n",
    "    return x\n"
   ]
  },
  {
   "cell_type": "code",
   "execution_count": 66,
   "metadata": {},
   "outputs": [],
   "source": [
    "#Data Load\n",
    "characterss = 'qwertyuiopasdfghjklzxcvbnm'\n",
    "characters = []\n",
    "characters[:0] = characterss\n",
    "corpus = [line.strip() for line in open('SMSSpamCollection.txt')]\n",
    "corpus = np.char.lower(corpus)\n",
    "for num in range(len(corpus)):\n",
    "    corpus[num] = clean_text(corpus[num])\n",
    "\n",
    "count_model = CountVectorizer()\n",
    "counts = count_model.fit_transform(corpus)\n",
    "counts.todense() #reprezentacja w formie macierzy numpy\n",
    "count_model.get_feature_names_out() #kolekcja wszystkich słów z korpusu\n",
    "df1 = pd.DataFrame(counts.todense(), columns = count_model.get_feature_names_out()) #reprezentacja w formie ramki danych"
   ]
  },
  {
   "cell_type": "code",
   "execution_count": 67,
   "metadata": {},
   "outputs": [],
   "source": [
    "#TIFID\n",
    "tfidf = TfidfVectorizer(min_df=5)\n",
    "tfidf_data = tfidf.fit_transform(corpus)\n",
    "df2 = pd.DataFrame(tfidf_data.todense(), columns = tfidf.get_feature_names_out()) #reprezentacja w formie ramki danych\n",
    "df2 = df2.drop('ham', axis=1)\n",
    "df2['spam'] = df1['spam']\n",
    "target = df2['spam']\n",
    "inputs = df2[df2.columns.drop('spam')]\n",
    "train_input,test_input,train_target,test_target = train_test_split(inputs,target, test_size=0.25)"
   ]
  },
  {
   "cell_type": "code",
   "execution_count": 72,
   "metadata": {},
   "outputs": [
    {
     "name": "stdout",
     "output_type": "stream",
     "text": [
      "Positive sentiment precision: 0.9753086419753086\n",
      "Positive sentiment recall: 0.8186528497409327\n",
      "Negative sentiment precision: 0.9715909090909091\n",
      "Negative sentiment recall: 0.9966694421315571\n",
      "Classification accuracy: 0.9720229555236729\n",
      "Classification R2Score: 0.7654545219225775\n"
     ]
    }
   ],
   "source": [
    "#logistic regression\n",
    "model = LogisticRegression()\n",
    "model.fit(train_input,train_target)\n",
    "predictions = model.predict(test_input)\n",
    "\n",
    "print(\"Positive sentiment precision:\",precision_score(test_target,predictions))\n",
    "print(\"Positive sentiment recall:\",recall_score(test_target,predictions))\n",
    "print(\"Negative sentiment precision:\",precision_score(test_target,predictions,pos_label = 0))\n",
    "print(\"Negative sentiment recall:\",recall_score(test_target,predictions,pos_label = 0))\n",
    "print(\"Classification accuracy:\",accuracy_score(test_target,predictions))\n",
    "print(\"Classification R2Score:\",r2_score(test_target,predictions))"
   ]
  },
  {
   "cell_type": "code",
   "execution_count": 73,
   "metadata": {},
   "outputs": [
    {
     "name": "stdout",
     "output_type": "stream",
     "text": [
      "Epoch 1/15\n",
      "131/131 [==============================] - 1s 4ms/step - loss: 0.6376 - accuracy: 0.6278\n",
      "Epoch 2/15\n",
      "131/131 [==============================] - 0s 3ms/step - loss: 0.4232 - accuracy: 0.8675\n",
      "Epoch 3/15\n",
      "131/131 [==============================] - 1s 9ms/step - loss: 0.3920 - accuracy: 0.8675\n",
      "Epoch 4/15\n",
      "131/131 [==============================] - 1s 5ms/step - loss: 0.3853 - accuracy: 0.8675\n",
      "Epoch 5/15\n",
      "131/131 [==============================] - 0s 2ms/step - loss: 0.3805 - accuracy: 0.8675\n",
      "Epoch 6/15\n",
      "131/131 [==============================] - 0s 2ms/step - loss: 0.3732 - accuracy: 0.8675\n",
      "Epoch 7/15\n",
      "131/131 [==============================] - 0s 2ms/step - loss: 0.3595 - accuracy: 0.8675\n",
      "Epoch 8/15\n",
      "131/131 [==============================] - 0s 2ms/step - loss: 0.3351 - accuracy: 0.8675\n",
      "Epoch 9/15\n",
      "131/131 [==============================] - 0s 3ms/step - loss: 0.2955 - accuracy: 0.8675\n",
      "Epoch 10/15\n",
      "131/131 [==============================] - 0s 4ms/step - loss: 0.2417 - accuracy: 0.8679\n",
      "Epoch 11/15\n",
      "131/131 [==============================] - 0s 3ms/step - loss: 0.1833 - accuracy: 0.9380\n",
      "Epoch 12/15\n",
      "131/131 [==============================] - 0s 2ms/step - loss: 0.1356 - accuracy: 0.9751\n",
      "Epoch 13/15\n",
      "131/131 [==============================] - 0s 2ms/step - loss: 0.1036 - accuracy: 0.9849\n",
      "Epoch 14/15\n",
      "131/131 [==============================] - 0s 2ms/step - loss: 0.0831 - accuracy: 0.9864\n",
      "Epoch 15/15\n",
      "131/131 [==============================] - 0s 2ms/step - loss: 0.0693 - accuracy: 0.9873\n",
      "Classification R2Score: 0.8375879163808018\n"
     ]
    }
   ],
   "source": [
    "#NN\n",
    "train_input_nn = np.asarray(train_input)\n",
    "test_input_nn = np.asarray(test_input)\n",
    "train_target_nn = np.asarray(train_target)\n",
    "test_target_nn = np.asarray(test_target)\n",
    "NN_model = Sequential()\n",
    "NN_model.add(Dense(10, input_dim=train_input_nn.shape[1] ,activation = 'sigmoid'))\n",
    "NN_model.add(Dense(10, activation = 'sigmoid'))\n",
    "NN_model.add(Dense(10, activation = 'sigmoid'))\n",
    "NN_model.add(Dense(1, activation = 'sigmoid'))\n",
    "NN_model.compile(loss='binary_crossentropy', optimizer='Adam', metrics=['accuracy'])\n",
    "NN_model.fit(train_input_nn, train_target_nn, epochs=15)\n",
    "predictions_nn = NN_model.predict(test_input_nn)\n",
    "\n",
    "\n",
    "print(\"Classification R2Score:\",r2_score(test_target,predictions_nn))"
   ]
  },
  {
   "cell_type": "code",
   "execution_count": 78,
   "metadata": {},
   "outputs": [
    {
     "name": "stdout",
     "output_type": "stream",
     "text": [
      "Classification accuracy: 0.9770444763271162\n",
      "Classification R2Score: 0.8075524282441662\n"
     ]
    }
   ],
   "source": [
    "#SVM\n",
    "\n",
    "SectorVM = SVC(random_state = 0)\n",
    "SectorVM.fit(train_input, train_target)\n",
    "predictions_svm = SectorVM.predict(test_input)\n",
    "#print(classifier.score(test_input,test_target))\n",
    "print(\"Classification accuracy:\",accuracy_score(test_target,predictions_svm))\n",
    "print(\"Classification R2Score:\",r2_score(test_target,predictions_svm))\n"
   ]
  },
  {
   "cell_type": "code",
   "execution_count": null,
   "metadata": {},
   "outputs": [],
   "source": []
  }
 ],
 "metadata": {
  "kernelspec": {
   "display_name": "Python 3 (ipykernel)",
   "language": "python",
   "name": "python3"
  },
  "language_info": {
   "codemirror_mode": {
    "name": "ipython",
    "version": 3
   },
   "file_extension": ".py",
   "mimetype": "text/x-python",
   "name": "python",
   "nbconvert_exporter": "python",
   "pygments_lexer": "ipython3",
   "version": "3.9.7"
  }
 },
 "nbformat": 4,
 "nbformat_minor": 1
}
